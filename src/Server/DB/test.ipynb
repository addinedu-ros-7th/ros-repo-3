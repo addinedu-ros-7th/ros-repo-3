{
 "cells": [
  {
   "cell_type": "code",
   "execution_count": 1,
   "metadata": {},
   "outputs": [],
   "source": [
    "import mysql.connector\n",
    "\n",
    "class ASAP_DB():\n",
    "    def __init__(self, db_name='asap', host='localhost', user='root', password='1234'):\n",
    "        self.db_name = db_name\n",
    "        self.host = host\n",
    "        self.user = user\n",
    "        self.password = password\n",
    "        self.id_list = []\n",
    "    \n",
    "    def get_cursor(self):\n",
    "        remote = mysql.connector.connect(\n",
    "            host=self.host,\n",
    "            user=self.user,\n",
    "            password=self.password,\n",
    "            database=self.db_name)\n",
    "        cursor = remote.cursor()\n",
    "        return cursor, remote\n",
    "    \n",
    "    def execute(self, query):\n",
    "        cursor, remote = self.get_cursor()\n",
    "        cursor.execute(query)\n",
    "        remote.commit()\n",
    "        cursor.close()\n",
    "        remote.close()\n",
    "\n",
    "    def info(self, query):\n",
    "        cursor, remote = self.get_cursor()\n",
    "        cursor.execute(query)\n",
    "        self.show_execute(cursor)\n",
    "        remote.commit()\n",
    "        cursor.close()\n",
    "        remote.close()\n",
    "\n",
    "    def show_execute(self, cursor):\n",
    "        result = cursor.fetchall()\n",
    "        for data in result:\n",
    "            print(data)\n",
    "\n",
    "    def get_data(self, table_name, data='*', condition=None):\n",
    "        cursor, remote = self.get_cursor()\n",
    "        if condition is not None:\n",
    "            query = f\"SELECT {data} FROM {table_name} WHERE {condition}\"\n",
    "        else:\n",
    "            query = f\"SELECT {data} FROM {table_name}\"\n",
    "        cursor.execute(query)\n",
    "        result = cursor.fetchall()\n",
    "        remote.commit()\n",
    "        cursor.close()\n",
    "        remote.close()\n",
    "        return result\n",
    "\n",
    "    def insert_values(self, table_name, columns, values):\n",
    "        cursor, remote = self.get_cursor()\n",
    "        query = f\"INSERT INTO {table_name} ({columns}) VALUES ({values})\"\n",
    "        cursor.execute(query)\n",
    "        self.info(f\"SELECT * FROM {table_name}\")\n",
    "        remote.commit()\n",
    "        cursor.close()\n",
    "        remote.close()\n",
    "\n",
    "    def select_values(self, table_name):\n",
    "        cursor, remote = self.get_cursor()\n",
    "        query = f\"SELECT * FROM {table_name}\"\n",
    "        cursor.execute(query)\n",
    "        self.show_execute(cursor)\n",
    "        remote.commit()\n",
    "        cursor.close()\n",
    "        remote.close()\n",
    "\n",
    "    def update_values(self, table_name, target, condition):\n",
    "        cursor, remote = self.get_cursor()\n",
    "        query = f\"UPDATE {table_name} SET {target} WHERE {condition}\"\n",
    "        cursor.execute(query)\n",
    "        remote.commit()\n",
    "        cursor.close()\n",
    "        remote.close()\n",
    "\n",
    "    def delete_values(self, table_name, condition):\n",
    "        cursor, remote = self.get_cursor()\n",
    "        query = f\"DELETE FROM {table_name} WHERE {condition}\"\n",
    "        cursor.execute(query)\n",
    "        self.info(f\"SELECT * FROM {table_name}\")\n",
    "        remote.commit()\n",
    "        cursor.close()\n",
    "        remote.close()        \n",
    "\n",
    "db = ASAP_DB()"
   ]
  },
  {
   "cell_type": "code",
   "execution_count": 36,
   "metadata": {},
   "outputs": [
    {
     "name": "stdout",
     "output_type": "stream",
     "text": [
      "('321조 3325', 'ASAP', 'Violet', '중형', '48', 0, 0, '', None)\n",
      "('321조 3326', 'ASAP', 'Violet', '중형', '49', 0, 0, '', None)\n",
      "('321조 3328', 'ASAP', 'Minty', '대형', '51', 0, 0, '', None)\n",
      "('321조 3329', 'ASAP', 'Minty', '대형', '52', 0, 0, '', None)\n",
      "('137가 1327', 'Toyota', 'Corolla', '중형', '13', 0, 0, '', None)\n",
      "('247다 5328', 'Hyundai', 'Sonata', '중형', '14', 0, 0, '', None)\n",
      "('147가 1327', 'Kia', 'K5', '중형', '15', 0, 0, '', None)\n",
      "('137가 3287', 'BMW', 'M3', '대형', '16', 0, 0, '', None)\n",
      "('137가 1328', 'Hyundai', 'E300', '소형', '17', 0, 0, '', None)\n",
      "('137가 1329', 'Hyundai', 'E300', '소형', '18', 0, 0, '', None)\n",
      "('137가 1330', 'Hyundai', 'Genesis', '중형', '19', 0, 0, '', None)\n",
      "('137가 1331', 'Hyundai', 'Genesis', '중형', '20', 0, 0, '', None)\n",
      "('395버 3125', 'ASAP', 'Pinky', '소형', '15', 0, 1, '/root/ros-repo-3/src/Server/DB/car/pinky/pinky1.png', 64.0)\n",
      "('729나 1004', 'ASAP', 'Pinky', '소형', '7', 0, 0, '/root/ros-repo-3/src/Server/DB/car/pinky/pinky2.png', 0.0)\n"
     ]
    }
   ],
   "source": [
    "for code in db.get_data('car'):#, 'brand=\"ASAP\"'):\n",
    "    print(code)"
   ]
  },
  {
   "cell_type": "code",
   "execution_count": 25,
   "metadata": {},
   "outputs": [
    {
     "name": "stdout",
     "output_type": "stream",
     "text": [
      "('이상범', '010-1234-5678', '123-123456-12', '/root/ros-repo-3/src/Server/GM_GUI/Image/ASAP_LOGO_long.jpg', '30427337', 0, None, None, None, None, 0, 'pinky', '1234', 'normal')\n",
      "('heetae', '010-9874-6513', '549-128796-62', '/root/ros-repo-3/src/Server/GM_GUI/Image/ASAP_LOGO_long.jpg', '85849350', 0, None, None, None, None, 0, 'asap', '123456', 'normal')\n"
     ]
    }
   ],
   "source": [
    "for code in db.get_data('person'):#, 'brand=\"ASAP\"'):\n",
    "    print(code)"
   ]
  },
  {
   "cell_type": "code",
   "execution_count": 11,
   "metadata": {},
   "outputs": [
    {
     "name": "stdout",
     "output_type": "stream",
     "text": [
      "('321조 3325', 'ASAP', 'Violet', '중형', '48', 0, 0, '', None)\n",
      "('321조 3326', 'ASAP', 'Violet', '중형', '49', 0, 0, '', None)\n",
      "('321조 3328', 'ASAP', 'Minty', '대형', '51', 0, 0, '', None)\n",
      "('321조 3329', 'ASAP', 'Minty', '대형', '52', 0, 0, '', None)\n",
      "('137가 1327', 'Toyota', 'Corolla', '중형', '13', 0, 0, '', None)\n",
      "('247다 5328', 'Hyundai', 'Sonata', '중형', '14', 0, 0, '', None)\n",
      "('147가 1327', 'Kia', 'K5', '중형', '15', 0, 0, '', None)\n",
      "('137가 3287', 'BMW', 'M3', '대형', '16', 0, 0, '', None)\n",
      "('137가 1328', 'Hyundai', 'E300', '소형', '17', 0, 0, '', None)\n",
      "('137가 1329', 'Hyundai', 'E300', '소형', '18', 0, 0, '', None)\n",
      "('137가 1330', 'Hyundai', 'Genesis', '중형', '19', 0, 0, '', None)\n",
      "('137가 1331', 'Hyundai', 'Genesis', '중형', '20', 0, 0, '', None)\n",
      "('395버 3125', 'ASAP', 'Pinky', '소형', '15', 0, 1, '/root/ros-repo-3/src/Server/DB/car/pinky/pinky1.png', 63.1)\n",
      "('729나 1004', 'ASAP', 'Pinky', '소형', '7', 0, 0, '/root/ros-repo-3/src/Server/DB/car/pinky/pinky2.png', 0.0)\n",
      "('321조 3325', 'ASAP', 'Violet', '중형', '48', 0, 0, '', None)\n",
      "('321조 3326', 'ASAP', 'Violet', '중형', '49', 0, 0, '', None)\n",
      "('321조 3328', 'ASAP', 'Minty', '대형', '51', 0, 0, '', None)\n",
      "('321조 3329', 'ASAP', 'Minty', '대형', '52', 0, 0, '', None)\n",
      "('137가 1327', 'Toyota', 'Corolla', '중형', '13', 0, 0, '', None)\n",
      "('247다 5328', 'Hyundai', 'Sonata', '중형', '14', 0, 0, '', None)\n",
      "('147가 1327', 'Kia', 'K5', '중형', '15', 0, 0, '', None)\n",
      "('137가 3287', 'BMW', 'M3', '대형', '16', 0, 0, '', None)\n",
      "('137가 1328', 'Hyundai', 'E300', '소형', '17', 0, 0, '', None)\n",
      "('137가 1329', 'Hyundai', 'E300', '소형', '18', 0, 0, '', None)\n",
      "('137가 1330', 'Hyundai', 'Genesis', '중형', '19', 0, 0, '', None)\n",
      "('137가 1331', 'Hyundai', 'Genesis', '중형', '20', 0, 0, '', None)\n",
      "('395버 3125', 'ASAP', 'Pinky', '소형', '15', 0, 0, '/root/ros-repo-3/src/Server/DB/car/pinky/pinky1.png', 63.1)\n",
      "('729나 1004', 'ASAP', 'Pinky', '소형', '7', 0, 0, '/root/ros-repo-3/src/Server/DB/car/pinky/pinky2.png', 0.0)\n"
     ]
    }
   ],
   "source": [
    "db.update_values('car', 'is_rented=0', 'car_number=\"395버 3125\"')\n",
    "for code in db.get_data('car'):#, 'brand=\"ASAP\"'):\n",
    "    print(code)"
   ]
  },
  {
   "cell_type": "code",
   "execution_count": 2,
   "metadata": {},
   "outputs": [],
   "source": [
    "cur, remote = db.get_cursor()\n",
    "cur.execute('alter table car add column battery float')\n",
    "result = cur.fetchall()"
   ]
  },
  {
   "cell_type": "code",
   "execution_count": 26,
   "metadata": {},
   "outputs": [
    {
     "name": "stdout",
     "output_type": "stream",
     "text": [
      "('car_number', 'varchar(45)', 'YES', '', None, '')\n",
      "('brand', 'varchar(45)', 'YES', '', None, '')\n",
      "('car_name', 'varchar(45)', 'YES', '', None, '')\n",
      "('type', 'varchar(45)', 'YES', '', None, '')\n",
      "('pin_number', 'varchar(45)', 'YES', '', None, '')\n",
      "('destroied', 'tinyint(1)', 'YES', '', None, '')\n",
      "('is_rented', 'tinyint(1)', 'YES', '', None, '')\n",
      "('img_path', 'varchar(255)', 'YES', '', None, '')\n"
     ]
    }
   ],
   "source": [
    "db.info('desc car')"
   ]
  },
  {
   "cell_type": "code",
   "execution_count": 27,
   "metadata": {},
   "outputs": [
    {
     "data": {
      "text/plain": [
       "[('137가 1330', 'Hyundai', 'Genesis', '중형', '19', 0, 0, ''),\n",
       " ('137가 1331', 'Hyundai', 'Genesis', '중형', '20', 0, 0, '')]"
      ]
     },
     "execution_count": 27,
     "metadata": {},
     "output_type": "execute_result"
    }
   ],
   "source": []
  },
  {
   "cell_type": "code",
   "execution_count": 35,
   "metadata": {},
   "outputs": [
    {
     "data": {
      "text/plain": [
       "'1'"
      ]
     },
     "execution_count": 35,
     "metadata": {},
     "output_type": "execute_result"
    }
   ],
   "source": [
    "a = a[:-1]\n",
    "a"
   ]
  },
  {
   "cell_type": "code",
   "execution_count": 37,
   "metadata": {},
   "outputs": [],
   "source": [
    "db.insert_values('person', 'name, phone', '\"이효리\", \"010-1234-5678\"')"
   ]
  },
  {
   "cell_type": "code",
   "execution_count": 26,
   "metadata": {},
   "outputs": [],
   "source": [
    "db.info('select * from person')"
   ]
  },
  {
   "cell_type": "code",
   "execution_count": 13,
   "metadata": {},
   "outputs": [
    {
     "name": "stdout",
     "output_type": "stream",
     "text": [
      "('137가 3287', 'BMW', 'M3', '대형', '16', 0, 0, 'None')\n",
      "('321조 3328', 'ASAP', 'Minty', '대형', '51', 0, 0, 'None')\n",
      "('321조 3329', 'ASAP', 'Minty', '대형', '52', 0, 0, 'None')\n"
     ]
    }
   ],
   "source": [
    "db.delete_values('car', 'type=\"대형\"')"
   ]
  },
  {
   "cell_type": "code",
   "execution_count": 1,
   "metadata": {},
   "outputs": [],
   "source": [
    "from Car import Car, CarDB"
   ]
  },
  {
   "cell_type": "code",
   "execution_count": 2,
   "metadata": {},
   "outputs": [],
   "source": [
    "car1 = Car('Toyota', 'Corolla', '중형', '137가 1327', '13')\n",
    "car2 = Car('Hyundai', 'Sonata', '중형', '247다 5328', '14')\n",
    "car3 = Car('Kia', 'K5', '소형', '147가 1327', '15')\n",
    "car4 = Car('BMW', 'M3', '대형', '137가 3287', '16')\n",
    "car5 = Car('Hyundai', 'E300', '소형', '137가 1328', '17')\n",
    "car6 = Car('ASAP', 'Pinky', '소형', '324조 3321', '44')\n",
    "car7 = Car('ASAP', 'Pinky', '소형', '321조 3321', '45')\n"
   ]
  },
  {
   "cell_type": "code",
   "execution_count": 3,
   "metadata": {},
   "outputs": [],
   "source": [
    "cardb = CarDB()"
   ]
  },
  {
   "cell_type": "code",
   "execution_count": 4,
   "metadata": {},
   "outputs": [
    {
     "name": "stdout",
     "output_type": "stream",
     "text": [
      "car_info '137가 1327', 'Toyota', 'Corolla', '중형', '13', '0', 'False', 'False'\n",
      "car_info '247다 5328', 'Hyundai', 'Sonata', '중형', '14', '0', 'False', 'False'\n",
      "car_info '147가 1327', 'Kia', 'K5', '소형', '15', '0', 'False', 'False'\n",
      "car_info '137가 3287', 'BMW', 'M3', '대형', '16', '0', 'False', 'False'\n",
      "car_info '137가 1328', 'Hyundai', 'E300', '소형', '17', '0', 'False', 'False'\n",
      "car_info '324조 3321', 'ASAP', 'Pinky', '소형', '44', '0', 'False', 'False'\n",
      "car_info '321조 3321', 'ASAP', 'Pinky', '소형', '45', '0', 'False', 'False'\n"
     ]
    }
   ],
   "source": [
    "cardb.add_car(car1)\n",
    "cardb.add_car(car2)\n",
    "cardb.add_car(car3)\n",
    "cardb.add_car(car4)\n",
    "cardb.add_car(car5)\n",
    "cardb.add_car(car6)\n",
    "cardb.add_car(car7)"
   ]
  },
  {
   "cell_type": "code",
   "execution_count": 8,
   "metadata": {},
   "outputs": [
    {
     "name": "stdout",
     "output_type": "stream",
     "text": [
      "'2', '0'\n"
     ]
    }
   ],
   "source": [
    "cardb.get_stat_info('ASAP', 'brand')"
   ]
  },
  {
   "cell_type": "code",
   "execution_count": 13,
   "metadata": {},
   "outputs": [
    {
     "data": {
      "text/plain": [
       "0"
      ]
     },
     "execution_count": 13,
     "metadata": {},
     "output_type": "execute_result"
    }
   ],
   "source": [
    "cardb.car_dict[cardb.car_model['Toyota'][0]].battery"
   ]
  },
  {
   "cell_type": "code",
   "execution_count": 11,
   "metadata": {},
   "outputs": [
    {
     "data": {
      "text/plain": [
       "{'Hyundai': ['247다 5328'], 'Kia': ['147가 1327'], 'BMW': ['137가 3287']}"
      ]
     },
     "execution_count": 11,
     "metadata": {},
     "output_type": "execute_result"
    }
   ],
   "source": [
    "cardb.remove_car(car1)\n",
    "cardb.car_model"
   ]
  },
  {
   "cell_type": "code",
   "execution_count": 9,
   "metadata": {},
   "outputs": [
    {
     "data": {
      "text/plain": [
       "{'Toyota': ['137가 1327'],\n",
       " 'Hyundai': ['247다 5328', '137가 1328'],\n",
       " 'BMW': ['137가 3287']}"
      ]
     },
     "execution_count": 9,
     "metadata": {},
     "output_type": "execute_result"
    }
   ],
   "source": []
  },
  {
   "cell_type": "code",
   "execution_count": 24,
   "metadata": {},
   "outputs": [],
   "source": [
    "del(a['a'])"
   ]
  },
  {
   "cell_type": "code",
   "execution_count": 26,
   "metadata": {},
   "outputs": [],
   "source": [
    "b = [1,2,3,4,5]"
   ]
  },
  {
   "cell_type": "code",
   "execution_count": 27,
   "metadata": {},
   "outputs": [],
   "source": [
    "b.remove(4)"
   ]
  },
  {
   "cell_type": "code",
   "execution_count": 28,
   "metadata": {},
   "outputs": [
    {
     "data": {
      "text/plain": [
       "[1, 2, 3, 5]"
      ]
     },
     "execution_count": 28,
     "metadata": {},
     "output_type": "execute_result"
    }
   ],
   "source": [
    "b"
   ]
  },
  {
   "cell_type": "code",
   "execution_count": 16,
   "metadata": {},
   "outputs": [],
   "source": [
    "b.update(a)"
   ]
  },
  {
   "cell_type": "code",
   "execution_count": null,
   "metadata": {},
   "outputs": [],
   "source": []
  },
  {
   "cell_type": "code",
   "execution_count": 17,
   "metadata": {},
   "outputs": [
    {
     "data": {
      "text/plain": [
       "{'a': 1}"
      ]
     },
     "execution_count": 17,
     "metadata": {},
     "output_type": "execute_result"
    }
   ],
   "source": [
    "b"
   ]
  }
 ],
 "metadata": {
  "kernelspec": {
   "display_name": "usr",
   "language": "python",
   "name": "python3"
  },
  "language_info": {
   "codemirror_mode": {
    "name": "ipython",
    "version": 3
   },
   "file_extension": ".py",
   "mimetype": "text/x-python",
   "name": "python",
   "nbconvert_exporter": "python",
   "pygments_lexer": "ipython3",
   "version": "3.12.3"
  }
 },
 "nbformat": 4,
 "nbformat_minor": 2
}
