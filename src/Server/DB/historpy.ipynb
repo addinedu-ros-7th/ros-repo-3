{
 "cells": [
  {
   "cell_type": "code",
   "execution_count": null,
   "metadata": {
    "vscode": {
     "languageId": "plaintext"
    }
   },
   "outputs": [],
   "source": [
    "columns = '''id INT, name VARCHAR(255), membership VARCHAR(255), point INT'''\n",
    "db.create_table(\"user_info\", columns=columns)"
   ]
  }
 ],
 "metadata": {
  "language_info": {
   "name": "python"
  }
 },
 "nbformat": 4,
 "nbformat_minor": 2
}
